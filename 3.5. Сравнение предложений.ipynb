{
 "cells": [
  {
   "cell_type": "code",
   "execution_count": 2,
   "metadata": {
    "collapsed": false
   },
   "outputs": [],
   "source": [
    "import re\n",
    "import numpy as np\n",
    "import scipy\n",
    "from scipy import spatial"
   ]
  },
  {
   "cell_type": "code",
   "execution_count": 10,
   "metadata": {
    "collapsed": true
   },
   "outputs": [],
   "source": [
    "# Скачайте файл с предложениями (sentences.txt).\n",
    "\n",
    "file_obj = open('sentences.txt', 'r')\n",
    "string_list = file_obj.readlines()\n",
    "file_obj.close()"
   ]
  },
  {
   "cell_type": "code",
   "execution_count": 11,
   "metadata": {
    "collapsed": false
   },
   "outputs": [],
   "source": [
    "# Каждая строка в файле соответствует одному предложению. Считайте их, приведите каждую к нижнему регистру \n",
    "# с помощью строковой функции lower().\n",
    "# Произведите токенизацию, то есть разбиение текстов на слова. \n",
    "# Для этого можно воспользоваться регулярным выражением, которое считает разделителем любой символ, \n",
    "# не являющийся буквой: re.split('[^a-z]', t). Не забудьте удалить пустые слова после разделения.\n",
    "\n",
    "word_list = list()\n",
    "for i in range(len(string_list)):\n",
    "    string_list[i] = string_list[i].lower()\n",
    "    word_list.append(re.split('[^a-z]', string_list[i]))\n",
    "    word_list[i] = filter(None, word_list[i])\n",
    "    # print string_list[i]"
   ]
  },
  {
   "cell_type": "code",
   "execution_count": 12,
   "metadata": {
    "collapsed": false
   },
   "outputs": [],
   "source": [
    "# Составьте список всех слов, встречающихся в предложениях. \n",
    "# Сопоставьте каждому слову индекс от нуля до (d - 1), где d — число различных слов в предложениях. \n",
    "# Для этого удобно воспользоваться структурой dict.\n",
    "\n",
    "word_index = dict()\n",
    "names = set()\n",
    "\n",
    "k = 0\n",
    "for i in range(len(string_list)):\n",
    "    for j in range(len(word_list[i])):\n",
    "        if word_list[i][j] not in names:\n",
    "            names.add(word_list[i][j])\n",
    "            word_index[word_list[i][j]] = k\n",
    "            k += 1            "
   ]
  },
  {
   "cell_type": "code",
   "execution_count": 13,
   "metadata": {
    "collapsed": false
   },
   "outputs": [
    {
     "data": {
      "text/plain": [
       "254"
      ]
     },
     "execution_count": 13,
     "metadata": {},
     "output_type": "execute_result"
    }
   ],
   "source": [
    "# Количество слов\n",
    "len(names)"
   ]
  },
  {
   "cell_type": "code",
   "execution_count": 14,
   "metadata": {
    "collapsed": false
   },
   "outputs": [
    {
     "data": {
      "text/plain": [
       "(22L, 254L)"
      ]
     },
     "execution_count": 14,
     "metadata": {},
     "output_type": "execute_result"
    }
   ],
   "source": [
    "# Создайте матрицу размера n * d, где n — число предложений. \n",
    "# Заполните ее: элемент с индексом (i, j) в этой матрице должен быть равен количеству вхождений j-го слова в i-е предложение. \n",
    "# У вас должна получиться матрица размера 22 * 254.\n",
    "\n",
    "word_matrix = np.zeros((len(string_list), len(names)))\n",
    "word_matrix.shape"
   ]
  },
  {
   "cell_type": "code",
   "execution_count": 15,
   "metadata": {
    "collapsed": false
   },
   "outputs": [],
   "source": [
    "for i in range(len(string_list)):\n",
    "    for j in range(len(word_list[i])):\n",
    "        word_matrix[i, word_index[word_list[i][j]]] +=  1"
   ]
  },
  {
   "cell_type": "code",
   "execution_count": 16,
   "metadata": {
    "collapsed": false
   },
   "outputs": [],
   "source": [
    "# Найдите косинусное расстояние от предложения в самой первой строке (In comparison to dogs, cats have not undergone...) \n",
    "# до всех остальных с помощью функции scipy.spatial.distance.cosine. \n",
    "# Какие номера у двух предложений, ближайших к нему по этому расстоянию (строки нумеруются с нуля)? \n",
    "# Эти два числа и будут ответами на задание.\n",
    "\n",
    "distance = list()\n",
    "for i in range(len(string_list)):\n",
    "    distance.append(scipy.spatial.distance.cosine(word_matrix[0, :], word_matrix[i, :]))"
   ]
  },
  {
   "cell_type": "code",
   "execution_count": 17,
   "metadata": {
    "collapsed": false
   },
   "outputs": [
    {
     "data": {
      "text/plain": [
       "[0.0,\n",
       " 0.95275444087384664,\n",
       " 0.86447381456421235,\n",
       " 0.89517151632780823,\n",
       " 0.77708871496985887,\n",
       " 0.94023856953328033,\n",
       " 0.7327387580875756,\n",
       " 0.92587506833388988,\n",
       " 0.88427248752843102,\n",
       " 0.90550888174769317,\n",
       " 0.83281653622739416,\n",
       " 0.88047713906656067,\n",
       " 0.83964325485254543,\n",
       " 0.87035925528956715,\n",
       " 0.87401184233025764,\n",
       " 0.94427217874246472,\n",
       " 0.84063618542208085,\n",
       " 0.95664450152379399,\n",
       " 0.94427217874246472,\n",
       " 0.88854435748492944,\n",
       " 0.84275727449171223,\n",
       " 0.82503644694405864]"
      ]
     },
     "execution_count": 17,
     "metadata": {},
     "output_type": "execute_result"
    }
   ],
   "source": [
    "distance"
   ]
  },
  {
   "cell_type": "code",
   "execution_count": 5,
   "metadata": {
    "collapsed": false
   },
   "outputs": [
    {
     "data": {
      "text/plain": [
       "-56.175444679663244"
      ]
     },
     "execution_count": 5,
     "metadata": {},
     "output_type": "execute_result"
    }
   ],
   "source": [
    "np.sqrt(40) - 62.5"
   ]
  },
  {
   "cell_type": "code",
   "execution_count": 8,
   "metadata": {
    "collapsed": false
   },
   "outputs": [
    {
     "data": {
      "text/plain": [
       "0.77809310892394867"
      ]
     },
     "execution_count": 8,
     "metadata": {},
     "output_type": "execute_result"
    }
   ],
   "source": [
    "0.625 + 2 *np.sqrt(0.625 * (1 - 0.625) / 40 )"
   ]
  },
  {
   "cell_type": "code",
   "execution_count": 9,
   "metadata": {
    "collapsed": false
   },
   "outputs": [
    {
     "data": {
      "text/plain": [
       "0.47190689107605138"
      ]
     },
     "execution_count": 9,
     "metadata": {},
     "output_type": "execute_result"
    }
   ],
   "source": [
    "0.625 - 2 * np.sqrt(0.625 * (1 - 0.625) / 40 )"
   ]
  },
  {
   "cell_type": "code",
   "execution_count": null,
   "metadata": {
    "collapsed": true
   },
   "outputs": [],
   "source": []
  }
 ],
 "metadata": {
  "kernelspec": {
   "display_name": "Python 2",
   "language": "python",
   "name": "python2"
  },
  "language_info": {
   "codemirror_mode": {
    "name": "ipython",
    "version": 2
   },
   "file_extension": ".py",
   "mimetype": "text/x-python",
   "name": "python",
   "nbconvert_exporter": "python",
   "pygments_lexer": "ipython2",
   "version": "2.7.12"
  }
 },
 "nbformat": 4,
 "nbformat_minor": 0
}
