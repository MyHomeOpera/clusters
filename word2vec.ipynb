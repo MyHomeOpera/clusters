{
 "cells": [
  {
   "cell_type": "markdown",
   "metadata": {},
   "source": [
    "** 1) Подключаем библиотеки**"
   ]
  },
  {
   "cell_type": "code",
   "execution_count": 1,
   "metadata": {
    "collapsed": false
   },
   "outputs": [
    {
     "name": "stderr",
     "output_type": "stream",
     "text": [
      "C:\\Users\\Anna\\AppData\\Local\\Continuum\\Anaconda3\\lib\\site-packages\\gensim\\utils.py:855: UserWarning: detected Windows; aliasing chunkize to chunkize_serial\n",
      "  warnings.warn(\"detected Windows; aliasing chunkize to chunkize_serial\")\n"
     ]
    }
   ],
   "source": [
    "import nltk\n",
    "from nltk.tokenize import WhitespaceTokenizer\n",
    "from string import punctuation\n",
    "from nltk.corpus import stopwords\n",
    "from gensim import corpora, models, similarities\n",
    "import time"
   ]
  },
  {
   "cell_type": "markdown",
   "metadata": {},
   "source": [
    "** 2) Загружаем тексты **"
   ]
  },
  {
   "cell_type": "code",
   "execution_count": 12,
   "metadata": {
    "collapsed": true
   },
   "outputs": [],
   "source": [
    "with open('t1.txt') as doc1:\n",
    "    t1 = doc1.read().replace('\\n', ' ')\n",
    "with open('t2.txt') as doc1:\n",
    "    t2 = doc1.read().replace('\\n', ' ')\n",
    "with open('t3.txt') as doc1:\n",
    "    t3 = doc1.read().replace('\\n', ' ')\n",
    "with open('t4.txt') as doc1:\n",
    "    t4 = doc1.read().replace('\\n', ' ')\n",
    "with open('t5.txt') as doc1:\n",
    "    t5 = doc1.read().replace('\\n', ' ')\n",
    "with open('t6.txt') as doc1:\n",
    "    t6 = doc1.read().replace('\\n', ' ')\n",
    "with open('t7.txt') as doc1:\n",
    "    t7 = doc1.read().replace('\\n', ' ')\n",
    "with open('t8.txt') as doc1:\n",
    "    t8 = doc1.read().replace('\\n', ' ')\n",
    "    \n",
    "texts = [t1, t2, t3, t4, t5, t6, t7, t8]"
   ]
  },
  {
   "cell_type": "markdown",
   "metadata": {},
   "source": [
    "<b>3) Удаляем стоп слова и проводим токенизацию</b><br><br>\n",
    "Проведем токенизацию (не учитываем границы предложений)"
   ]
  },
  {
   "cell_type": "code",
   "execution_count": 13,
   "metadata": {
    "collapsed": false
   },
   "outputs": [],
   "source": [
    "exclude = set(punctuation + '0123456789'+u'–—'+u'«»')\n",
    "for i in range(8):\n",
    "    texts[i] = ''.join(ch for ch in texts[i] if ch not in exclude)\n",
    "    texts[i] = WhitespaceTokenizer().tokenize(texts[i].lower())"
   ]
  },
  {
   "cell_type": "code",
   "execution_count": 14,
   "metadata": {
    "collapsed": false
   },
   "outputs": [],
   "source": [
    "mystopwords = stopwords.words('russian')+[u'это', u'иза', u'свой',u'млрд', u'млн',u'млна',u'тыс',u'трлн']\n",
    "for i in range(8):\n",
    "    texts[i] = [el for el in texts[i] if el not in mystopwords]"
   ]
  },
  {
   "cell_type": "markdown",
   "metadata": {},
   "source": [
    "** 4) Обучение word2vec модели **"
   ]
  },
  {
   "cell_type": "code",
   "execution_count": 15,
   "metadata": {
    "collapsed": false
   },
   "outputs": [
    {
     "name": "stdout",
     "output_type": "stream",
     "text": [
      "Elapsed time: 0.579 sec\n"
     ]
    }
   ],
   "source": [
    "class Profiler(object):\n",
    "    def __enter__(self):\n",
    "        self._startTime = time.time()\n",
    "         \n",
    "    def __exit__(self, type, value, traceback):\n",
    "        print(\"Elapsed time: {:.3f} sec\".format(time.time() - self._startTime))\n",
    "        \n",
    "with Profiler() as p:\n",
    "    model = models.Word2Vec(texts, min_count=10)"
   ]
  },
  {
   "cell_type": "markdown",
   "metadata": {},
   "source": [
    "<b>5) Приведем примеры использования .most_similar</b><br>\n",
    "Не все слова найдены корректно, и почти все не являются синонимами (скорее всего причиной этому послужило малое разнообразие текстов)."
   ]
  },
  {
   "cell_type": "code",
   "execution_count": 16,
   "metadata": {
    "collapsed": false
   },
   "outputs": [
    {
     "data": {
      "text/plain": [
       "[('воздух', 0.9986305832862854),\n",
       " ('человека', 0.998603880405426),\n",
       " ('грудь', 0.9985979795455933),\n",
       " ('смотрел', 0.9985929131507874),\n",
       " ('подошел', 0.9985888004302979),\n",
       " ('нашел', 0.9985756278038025),\n",
       " ('две', 0.9985682368278503),\n",
       " ('большие', 0.9985678195953369),\n",
       " ('мои', 0.9985675811767578),\n",
       " ('воды', 0.9985620975494385)]"
      ]
     },
     "execution_count": 16,
     "metadata": {},
     "output_type": "execute_result"
    }
   ],
   "source": [
    "model.most_similar(\"герой\")"
   ]
  },
  {
   "cell_type": "code",
   "execution_count": 17,
   "metadata": {
    "collapsed": false
   },
   "outputs": [
    {
     "data": {
      "text/plain": [
       "[('ушёл', 0.9959180355072021),\n",
       " ('многие', 0.9958527088165283),\n",
       " ('упал', 0.9958083629608154),\n",
       " ('оранжевое', 0.9957685470581055),\n",
       " ('азамат', 0.995734691619873),\n",
       " ('вдоль', 0.9957141280174255),\n",
       " ('друг', 0.9957101345062256),\n",
       " ('угодно', 0.9957066774368286),\n",
       " ('какие', 0.9956936240196228),\n",
       " ('сама', 0.9956822991371155)]"
      ]
     },
     "execution_count": 17,
     "metadata": {},
     "output_type": "execute_result"
    }
   ],
   "source": [
    "model.most_similar(\"сила\")"
   ]
  },
  {
   "cell_type": "code",
   "execution_count": 18,
   "metadata": {
    "collapsed": false
   },
   "outputs": [
    {
     "data": {
      "text/plain": [
       "[('рак', 0.9995466470718384),\n",
       " ('сказать', 0.999541699886322),\n",
       " ('возле', 0.9995403289794922),\n",
       " ('сердце', 0.9995391368865967),\n",
       " ('детей', 0.9995385408401489),\n",
       " ('княжна', 0.9995380640029907),\n",
       " ('глаза', 0.9995357394218445),\n",
       " ('такое', 0.9995342493057251),\n",
       " ('день', 0.999534010887146),\n",
       " ('очень', 0.99953293800354)]"
      ]
     },
     "execution_count": 18,
     "metadata": {},
     "output_type": "execute_result"
    }
   ],
   "source": [
    "model.most_similar(\"гражданка\")"
   ]
  },
  {
   "cell_type": "code",
   "execution_count": 19,
   "metadata": {
    "collapsed": false
   },
   "outputs": [
    {
     "data": {
      "text/plain": [
       "[('стал', 0.9999246001243591),\n",
       " ('спросил', 0.9999212026596069),\n",
       " ('сказал', 0.9999204874038696),\n",
       " ('тебе', 0.9999195337295532),\n",
       " ('знаю', 0.9999183416366577),\n",
       " ('очень', 0.9999181032180786),\n",
       " ('никто', 0.9999169111251831),\n",
       " ('чтото', 0.9999168515205383),\n",
       " ('мать', 0.9999161958694458),\n",
       " ('стало', 0.9999161958694458)]"
      ]
     },
     "execution_count": 19,
     "metadata": {},
     "output_type": "execute_result"
    }
   ],
   "source": [
    "model.most_similar(\"вася\")"
   ]
  },
  {
   "cell_type": "code",
   "execution_count": 20,
   "metadata": {
    "collapsed": false
   },
   "outputs": [
    {
     "data": {
      "text/plain": [
       "[('хотя', 0.999740719795227),\n",
       " ('думаю', 0.999737024307251),\n",
       " ('лодя', 0.9997340440750122),\n",
       " ('нам', 0.9997324347496033),\n",
       " ('знаешь', 0.999730110168457),\n",
       " ('время', 0.9997296333312988),\n",
       " ('хвост', 0.9997289180755615),\n",
       " ('чтото', 0.9997254014015198),\n",
       " ('долго', 0.9997243285179138),\n",
       " ('завтра', 0.9997221827507019)]"
      ]
     },
     "execution_count": 20,
     "metadata": {},
     "output_type": "execute_result"
    }
   ],
   "source": [
    "model.most_similar(\"взгляд\")"
   ]
  },
  {
   "cell_type": "markdown",
   "metadata": {},
   "source": [
    "** 6) Приведем примеры поиска ассоциаций **\n",
    "\n"
   ]
  },
  {
   "cell_type": "code",
   "execution_count": 32,
   "metadata": {
    "collapsed": false
   },
   "outputs": [
    {
     "data": {
      "text/plain": [
       "[('грудь', 0.9982942342758179)]"
      ]
     },
     "execution_count": 32,
     "metadata": {},
     "output_type": "execute_result"
    }
   ],
   "source": [
    "model.most_similar(positive=['печорин', 'герой'], negative=['казбич'], topn=1)"
   ]
  },
  {
   "cell_type": "code",
   "execution_count": 31,
   "metadata": {
    "collapsed": false,
    "scrolled": false
   },
   "outputs": [
    {
     "data": {
      "text/plain": [
       "[('чик', 0.9988667368888855)]"
      ]
     },
     "execution_count": 31,
     "metadata": {},
     "output_type": "execute_result"
    }
   ],
   "source": [
    "model.most_similar(positive=['птицы', 'роще'], negative=['звери'], topn=1)"
   ]
  },
  {
   "cell_type": "code",
   "execution_count": 30,
   "metadata": {
    "collapsed": false
   },
   "outputs": [
    {
     "data": {
      "text/plain": [
       "[('печорин', 0.9991111755371094)]"
      ]
     },
     "execution_count": 30,
     "metadata": {},
     "output_type": "execute_result"
    }
   ],
   "source": [
    "model.most_similar(positive=['вася', 'шинель'], negative=['дима'], topn=1)"
   ]
  },
  {
   "cell_type": "code",
   "execution_count": 29,
   "metadata": {
    "collapsed": false
   },
   "outputs": [
    {
     "data": {
      "text/plain": [
       "[('впереди', 0.997215747833252)]"
      ]
     },
     "execution_count": 29,
     "metadata": {},
     "output_type": "execute_result"
    }
   ],
   "source": [
    "model.most_similar(positive=['мужик', 'разбойник'], negative=['женщина'], topn=1)"
   ]
  },
  {
   "cell_type": "code",
   "execution_count": 26,
   "metadata": {
    "collapsed": false
   },
   "outputs": [
    {
     "data": {
      "text/plain": [
       "[('хотела', 0.9961149096488953)]"
      ]
     },
     "execution_count": 26,
     "metadata": {},
     "output_type": "execute_result"
    }
   ],
   "source": [
    "model.most_similar(positive=['земля', 'снег'], negative=['река'], topn=1)"
   ]
  },
  {
   "cell_type": "markdown",
   "metadata": {},
   "source": [
    "** 7) Поиск лишнего слова. Используем .doesnt_match **\n",
    "\n",
    "Во всех случаях лишнее слово найдено верно"
   ]
  },
  {
   "cell_type": "code",
   "execution_count": 33,
   "metadata": {
    "collapsed": false
   },
   "outputs": [
    {
     "name": "stdout",
     "output_type": "stream",
     "text": [
      "телефон\n",
      "вода\n",
      "цветы\n",
      "отец\n",
      "лес\n",
      "дверь\n"
     ]
    }
   ],
   "source": [
    "print(model.doesnt_match(\"печорин герой трава телефон время\".split()))\n",
    "print(model.doesnt_match(\"мать отец вода\".split()))\n",
    "print(model.doesnt_match(\"зима лето осень весна дерево листья цветы\".split()))\n",
    "print(model.doesnt_match(\"принцесса королева король отец\".split()))\n",
    "print(model.doesnt_match(\"тарелка кастрюля ложка вилка лес\".split()))\n",
    "print(model.doesnt_match(\"апельсин яблоко орех дверь\".split()))"
   ]
  },
  {
   "cell_type": "markdown",
   "metadata": {},
   "source": [
    "### 8) Проверка свойств коммутативности и транзитивности \n",
    "\n",
    "Посмотрим, в каких парах и тройках ** выполняется **\n",
    "\n",
    "а) Транзитивность"
   ]
  },
  {
   "cell_type": "markdown",
   "metadata": {
    "collapsed": false
   },
   "source": [
    "Дело -> Сказал -> Очень = Дело -> Очень"
   ]
  },
  {
   "cell_type": "code",
   "execution_count": 62,
   "metadata": {
    "collapsed": false
   },
   "outputs": [
    {
     "data": {
      "text/plain": [
       "[('очень', 0.9999712705612183),\n",
       " ('сказал', 0.9999685287475586),\n",
       " ('глаза', 0.9999680519104004)]"
      ]
     },
     "execution_count": 62,
     "metadata": {},
     "output_type": "execute_result"
    }
   ],
   "source": [
    "model.most_similar(\"дело\", topn = 3)"
   ]
  },
  {
   "cell_type": "code",
   "execution_count": 63,
   "metadata": {
    "collapsed": false
   },
   "outputs": [
    {
     "data": {
      "text/plain": [
       "[('очень', 0.9999802112579346),\n",
       " ('глаза', 0.999976634979248),\n",
       " ('человек', 0.9999761581420898)]"
      ]
     },
     "execution_count": 63,
     "metadata": {},
     "output_type": "execute_result"
    }
   ],
   "source": [
    "model.most_similar(\"сказал\", topn=3)"
   ]
  },
  {
   "cell_type": "markdown",
   "metadata": {},
   "source": [
    "Жаворонок -> Глаза -> Сказал = Жаворонок -> Сказал"
   ]
  },
  {
   "cell_type": "code",
   "execution_count": 78,
   "metadata": {
    "collapsed": false
   },
   "outputs": [
    {
     "data": {
      "text/plain": [
       "[('глаза', 0.9999702572822571),\n",
       " ('сказал', 0.9999688863754272),\n",
       " ('долго', 0.9999667406082153)]"
      ]
     },
     "execution_count": 78,
     "metadata": {},
     "output_type": "execute_result"
    }
   ],
   "source": [
    "model.most_similar(\"жаворонок\",topn=3)"
   ]
  },
  {
   "cell_type": "code",
   "execution_count": 79,
   "metadata": {
    "collapsed": false
   },
   "outputs": [
    {
     "data": {
      "text/plain": [
       "[('сказал', 0.999976634979248),\n",
       " ('очень', 0.9999746680259705),\n",
       " ('жаворонок', 0.9999703764915466)]"
      ]
     },
     "execution_count": 79,
     "metadata": {},
     "output_type": "execute_result"
    }
   ],
   "source": [
    "model.most_similar(\"глаза\",topn=3) "
   ]
  },
  {
   "cell_type": "markdown",
   "metadata": {},
   "source": [
    "б) Коммутативность"
   ]
  },
  {
   "cell_type": "markdown",
   "metadata": {},
   "source": [
    "Человек -> Тебе = Тебе -> Человек "
   ]
  },
  {
   "cell_type": "code",
   "execution_count": 77,
   "metadata": {
    "collapsed": false
   },
   "outputs": [
    {
     "data": {
      "text/plain": [
       "[('сказал', 0.9999761581420898),\n",
       " ('тебе', 0.9999704957008362),\n",
       " ('пока', 0.9999691247940063)]"
      ]
     },
     "execution_count": 77,
     "metadata": {},
     "output_type": "execute_result"
    }
   ],
   "source": [
    "model.most_similar(\"человек\",topn=3)"
   ]
  },
  {
   "cell_type": "code",
   "execution_count": 76,
   "metadata": {
    "collapsed": false
   },
   "outputs": [
    {
     "data": {
      "text/plain": [
       "[('сказал', 0.9999744892120361),\n",
       " ('очень', 0.9999744296073914),\n",
       " ('человек', 0.9999704957008362)]"
      ]
     },
     "execution_count": 76,
     "metadata": {},
     "output_type": "execute_result"
    }
   ],
   "source": [
    "model.most_similar(\"тебе\",topn=3)"
   ]
  },
  {
   "cell_type": "markdown",
   "metadata": {},
   "source": [
    "Теперь найдем слова, для которых **не выполняются **свойства\n",
    "\n",
    "а) Транзитивность"
   ]
  },
  {
   "cell_type": "markdown",
   "metadata": {},
   "source": [
    "Сказала -> Сказал -> Человек != Сказала -> Человек"
   ]
  },
  {
   "cell_type": "code",
   "execution_count": 87,
   "metadata": {
    "collapsed": false
   },
   "outputs": [
    {
     "data": {
      "text/plain": [
       "[('сказал', 0.9999721050262451),\n",
       " ('очень', 0.9999678730964661),\n",
       " ('пока', 0.9999677538871765)]"
      ]
     },
     "execution_count": 87,
     "metadata": {},
     "output_type": "execute_result"
    }
   ],
   "source": [
    "model.most_similar(\"сказала\",topn=3) "
   ]
  },
  {
   "cell_type": "code",
   "execution_count": 88,
   "metadata": {
    "collapsed": false
   },
   "outputs": [
    {
     "data": {
      "text/plain": [
       "[('очень', 0.9999802112579346),\n",
       " ('глаза', 0.999976634979248),\n",
       " ('человек', 0.9999761581420898)]"
      ]
     },
     "execution_count": 88,
     "metadata": {},
     "output_type": "execute_result"
    }
   ],
   "source": [
    "model.most_similar(\"сказал\",topn=3) "
   ]
  },
  {
   "cell_type": "markdown",
   "metadata": {},
   "source": [
    "б) Коммутативность"
   ]
  },
  {
   "cell_type": "markdown",
   "metadata": {},
   "source": [
    "Город -> Вон != Вон -> Город"
   ]
  },
  {
   "cell_type": "code",
   "execution_count": 52,
   "metadata": {
    "collapsed": false
   },
   "outputs": [
    {
     "data": {
      "text/plain": [
       "[('вон', 0.9995261430740356),\n",
       " ('говорит', 0.9995203018188477),\n",
       " ('одну', 0.99951171875)]"
      ]
     },
     "execution_count": 52,
     "metadata": {},
     "output_type": "execute_result"
    }
   ],
   "source": [
    "model.most_similar(\"город\",topn=3)"
   ]
  },
  {
   "cell_type": "code",
   "execution_count": 53,
   "metadata": {
    "collapsed": false
   },
   "outputs": [
    {
     "data": {
      "text/plain": [
       "[('сказал', 0.9999233484268188),\n",
       " ('очень', 0.9999213218688965),\n",
       " ('говорит', 0.9999200105667114)]"
      ]
     },
     "execution_count": 53,
     "metadata": {},
     "output_type": "execute_result"
    }
   ],
   "source": [
    "model.most_similar(\"вон\", topn=3)"
   ]
  },
  {
   "cell_type": "markdown",
   "metadata": {},
   "source": [
    "Небо -> Доктор != Доктор -> Небо"
   ]
  },
  {
   "cell_type": "code",
   "execution_count": 58,
   "metadata": {
    "collapsed": false
   },
   "outputs": [
    {
     "data": {
      "text/plain": [
       "[('старик', 0.9996330142021179),\n",
       " ('который', 0.9996261596679688),\n",
       " ('доктор', 0.9996181130409241)]"
      ]
     },
     "execution_count": 58,
     "metadata": {},
     "output_type": "execute_result"
    }
   ],
   "source": [
    "model.most_similar(\"небо\", topn=3)"
   ]
  },
  {
   "cell_type": "code",
   "execution_count": 59,
   "metadata": {
    "collapsed": false
   },
   "outputs": [
    {
     "data": {
      "text/plain": [
       "[('отвечал', 0.9999249577522278),\n",
       " ('сказал', 0.999924898147583),\n",
       " ('глаза', 0.9999221563339233)]"
      ]
     },
     "execution_count": 59,
     "metadata": {},
     "output_type": "execute_result"
    }
   ],
   "source": [
    "model.most_similar(\"доктор\", topn=3)"
   ]
  },
  {
   "cell_type": "code",
   "execution_count": null,
   "metadata": {
    "collapsed": true
   },
   "outputs": [],
   "source": [
    "# посмотреть вектор\n",
    "model[\"hi\"]"
   ]
  }
 ],
 "metadata": {
  "anaconda-cloud": {},
  "kernelspec": {
   "display_name": "Python 3",
   "language": "python",
   "name": "python3"
  },
  "language_info": {
   "codemirror_mode": {
    "name": "ipython",
    "version": 3
   },
   "file_extension": ".py",
   "mimetype": "text/x-python",
   "name": "python",
   "nbconvert_exporter": "python",
   "pygments_lexer": "ipython3",
   "version": "3.6.0"
  }
 },
 "nbformat": 4,
 "nbformat_minor": 0
}
